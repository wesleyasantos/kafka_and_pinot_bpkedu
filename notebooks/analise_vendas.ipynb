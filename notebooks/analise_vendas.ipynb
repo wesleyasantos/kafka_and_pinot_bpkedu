{
 "cells": [
  {
   "cell_type": "markdown",
   "metadata": {},
   "source": [
    "### Template para análise de dados em tempo real com Apache Pinot"
   ]
  },
  {
   "cell_type": "code",
   "execution_count": 1,
   "metadata": {},
   "outputs": [],
   "source": [
    "import pandas as pd\n",
    "import matplotlib.pyplot as plt\n",
    "import seaborn as sns\n",
    "import numpy as np\n",
    "from datetime import datetime, timedelta\n",
    "from pinotdb import connect\n",
    "import time"
   ]
  },
  {
   "cell_type": "code",
   "execution_count": 2,
   "metadata": {},
   "outputs": [],
   "source": [
    "%matplotlib inline \n",
    "plt.style.use('ggplot')\n",
    "sns.set(style=\"whitegrid\")\n",
    "plt.rcParams['figure.figsize'] = (12, 6)"
   ]
  },
  {
   "cell_type": "code",
   "execution_count": 3,
   "metadata": {},
   "outputs": [],
   "source": [
    "# Configuração de conexão com o Pinot\n",
    "PINOT_HOST = 'localhost'\n",
    "PINOT_PORT = 8099\n",
    "PINOT_TABLE = 'vendas_REALTIME'"
   ]
  },
  {
   "cell_type": "code",
   "execution_count": 4,
   "metadata": {},
   "outputs": [],
   "source": [
    "# Estabelece a conexão\n",
    "conn = connect(host=PINOT_HOST, port=PINOT_PORT, path='/query/sql', scheme='http')\n",
    "cursor = conn.cursor()"
   ]
  },
  {
   "cell_type": "code",
   "execution_count": 5,
   "metadata": {},
   "outputs": [],
   "source": [
    "# Função auxiliar para executar consultas SQL e retornar um DataFrame\n",
    "def query_pinot(sql):\n",
    "    cursor.execute(sql)\n",
    "    columns = [desc[0] for desc in cursor.description]\n",
    "    df = pd.DataFrame(cursor.fetchall(), columns=columns)\n",
    "    return df"
   ]
  },
  {
   "cell_type": "code",
   "execution_count": null,
   "metadata": {},
   "outputs": [],
   "source": [
    "# Verificar número total de registros\n",
    "query = f\"SELECT COUNT(*) AS total_registros FROM {PINOT_TABLE}\"\n",
    "total = query_pinot(query)\n",
    "print(f\"Total de registros: {total['total_registros'].values[0]}\")"
   ]
  },
  {
   "cell_type": "code",
   "execution_count": null,
   "metadata": {},
   "outputs": [],
   "source": [
    "# Amostra dos primeiros registros\n",
    "query = f\"SELECT * FROM {PINOT_TABLE} LIMIT 5\"\n",
    "amostra = query_pinot(query)\n",
    "amostra"
   ]
  },
  {
   "cell_type": "code",
   "execution_count": null,
   "metadata": {},
   "outputs": [],
   "source": [
    "# Análise por categoria\n",
    "query = f\"\"\"\n",
    "SELECT \n",
    "    categoria,\n",
    "    COUNT(*) AS num_vendas,\n",
    "    SUM(valor_total) AS valor_total,\n",
    "    AVG(valor_total) AS valor_medio,\n",
    "    SUM(quantidade) AS quantidade_total\n",
    "FROM {PINOT_TABLE}\n",
    "GROUP BY categoria\n",
    "ORDER BY valor_total DESC\n",
    "\"\"\"\n",
    "\n",
    "categorias = query_pinot(query)\n",
    "categorias"
   ]
  },
  {
   "cell_type": "code",
   "execution_count": null,
   "metadata": {},
   "outputs": [],
   "source": [
    "# Visualização das vendas por categoria\n",
    "plt.figure(figsize=(12, 6))\n",
    "sns.barplot(x='categoria', y='valor_total', data=categorias)\n",
    "plt.title('Valor Total de Vendas por Categoria')\n",
    "plt.xticks(rotation=45)\n",
    "plt.tight_layout()\n",
    "plt.show()"
   ]
  },
  {
   "cell_type": "code",
   "execution_count": null,
   "metadata": {},
   "outputs": [],
   "source": [
    "# Vendas por categoria (gráfico de pizza)\n",
    "plt.figure(figsize=(10, 10))\n",
    "plt.pie(categorias['valor_total'], labels=categorias['categoria'], autopct='%1.1f%%', startangle=90)\n",
    "plt.axis('equal')  # Para garantir que o gráfico de pizza seja um círculo\n",
    "plt.title('Distribuição de Vendas por Categoria')\n",
    "plt.show()"
   ]
  },
  {
   "cell_type": "code",
   "execution_count": null,
   "metadata": {},
   "outputs": [],
   "source": [
    "# Análise temporal (agrupada por minuto)\n",
    "query = f\"\"\"\n",
    "SELECT \n",
    "    DATETRUNC('MINUTE', fromEpochMillis(timestamp)) AS minuto,\n",
    "    COUNT(*) AS num_vendas,\n",
    "    SUM(valor_total) AS valor_total\n",
    "FROM {PINOT_TABLE}\n",
    "GROUP BY DATETRUNC('MINUTE', fromEpochMillis(timestamp))\n",
    "ORDER BY minuto ASC\n",
    "\"\"\"\n",
    "\n",
    "vendas_tempo = query_pinot(query)\n",
    "vendas_tempo['minuto'] = pd.to_datetime(vendas_tempo['minuto'])\n",
    "print(vendas_tempo)"
   ]
  },
  {
   "cell_type": "code",
   "execution_count": null,
   "metadata": {},
   "outputs": [],
   "source": [
    "# Visualização temporal\n",
    "plt.figure(figsize=(14, 6))\n",
    "plt.plot(vendas_tempo['minuto'], vendas_tempo['valor_total'], marker='o', linestyle='-')\n",
    "plt.title('Valor de Vendas ao Longo do Tempo (por Minuto)')\n",
    "plt.xlabel('Minuto')\n",
    "plt.ylabel('Valor Total (R$)')\n",
    "plt.grid(True)\n",
    "plt.xticks(rotation=45)\n",
    "plt.tight_layout()\n",
    "plt.show()"
   ]
  },
  {
   "cell_type": "code",
   "execution_count": null,
   "metadata": {},
   "outputs": [],
   "source": [
    "# Análise por estado\n",
    "query = f\"\"\"\n",
    "SELECT \n",
    "    estado,\n",
    "    COUNT(*) AS num_vendas,\n",
    "    SUM(valor_total) AS valor_total,\n",
    "    AVG(valor_total) AS valor_medio\n",
    "FROM {PINOT_TABLE}\n",
    "GROUP BY estado\n",
    "ORDER BY valor_total DESC\n",
    "\"\"\"\n",
    "\n",
    "estados = query_pinot(query)\n",
    "estados"
   ]
  },
  {
   "cell_type": "code",
   "execution_count": null,
   "metadata": {},
   "outputs": [],
   "source": [
    "plt.figure(figsize=(10, 6))\n",
    "sns.barplot(x='estado', y='valor_total', data=estados)\n",
    "plt.title('Valor Total de Vendas por Estado')\n",
    "plt.tight_layout()\n",
    "plt.show()"
   ]
  },
  {
   "cell_type": "code",
   "execution_count": null,
   "metadata": {},
   "outputs": [],
   "source": [
    "# Análise por cidade (top 10)\n",
    "query = f\"\"\"\n",
    "SELECT \n",
    "    cidade,\n",
    "    COUNT(*) AS num_vendas,\n",
    "    SUM(valor_total) AS valor_total,\n",
    "    AVG(valor_total) AS valor_medio\n",
    "FROM {PINOT_TABLE}\n",
    "GROUP BY cidade\n",
    "ORDER BY valor_total DESC\n",
    "LIMIT 10\n",
    "\"\"\"\n",
    "\n",
    "cidades = query_pinot(query)\n",
    "cidades"
   ]
  },
  {
   "cell_type": "code",
   "execution_count": null,
   "metadata": {},
   "outputs": [],
   "source": [
    "plt.figure(figsize=(12, 6))\n",
    "sns.barplot(x='cidade', y='valor_total', data=cidades)\n",
    "plt.title('Valor Total de Vendas por Cidade (Top 10)')\n",
    "plt.xticks(rotation=45)\n",
    "plt.tight_layout()\n",
    "plt.show()"
   ]
  },
  {
   "cell_type": "code",
   "execution_count": null,
   "metadata": {},
   "outputs": [],
   "source": [
    "# Análise por forma de pagamento\n",
    "query = f\"\"\"\n",
    "SELECT \n",
    "    forma_pagamento,\n",
    "    COUNT(*) AS num_vendas,\n",
    "    SUM(valor_total) AS valor_total,\n",
    "    AVG(valor_total) AS valor_medio\n",
    "FROM {PINOT_TABLE}\n",
    "GROUP BY forma_pagamento\n",
    "ORDER BY valor_total DESC\n",
    "\"\"\"\n",
    "\n",
    "pagamentos = query_pinot(query)\n",
    "pagamentos"
   ]
  },
  {
   "cell_type": "code",
   "execution_count": null,
   "metadata": {},
   "outputs": [],
   "source": [
    "plt.figure(figsize=(10, 6))\n",
    "sns.barplot(x='forma_pagamento', y='valor_total', data=pagamentos)\n",
    "plt.title('Valor Total de Vendas por Forma de Pagamento')\n",
    "plt.tight_layout()\n",
    "plt.show()"
   ]
  },
  {
   "cell_type": "code",
   "execution_count": null,
   "metadata": {},
   "outputs": [],
   "source": [
    "# Função para análise em tempo real\n",
    "def analise_tempo_real(intervalo=5, num_iteracoes=20):\n",
    "    plt.figure(figsize=(14, 10))\n",
    "    \n",
    "    for i in range(num_iteracoes):\n",
    "        # Limpar o gráfico para a próxima iteração\n",
    "        plt.clf()\n",
    "        \n",
    "        # Consultar dados atualizados - Últimos 10 minutos\n",
    "        query = f\"\"\"\n",
    "        SELECT \n",
    "            DATETRUNC('MINUTE', fromEpochMillis(timestamp)) AS minuto,\n",
    "            COUNT(*) AS num_vendas,\n",
    "            SUM(valor_total) AS valor_total\n",
    "        FROM {PINOT_TABLE}\n",
    "        WHERE timestamp > {int((datetime.now() - timedelta(minutes=10)).timestamp() * 1000)}\n",
    "        GROUP BY DATETRUNC('MINUTE', fromEpochMillis(timestamp))\n",
    "        ORDER BY minuto ASC\n",
    "        \"\"\"\n",
    "        \n",
    "        vendas_recentes = query_pinot(query)\n",
    "        \n",
    "        if len(vendas_recentes) == 0:\n",
    "            plt.text(0.5, 0.5, \"Sem dados nos últimos 10 minutos\", \n",
    "                     horizontalalignment='center', verticalalignment='center', transform=plt.gca().transAxes)\n",
    "            plt.pause(intervalo)\n",
    "            continue\n",
    "        \n",
    "        vendas_recentes['minuto'] = pd.to_datetime(vendas_recentes['minuto'])\n",
    "        \n",
    "        # Atualizar gráfico de vendas por minuto\n",
    "        plt.subplot(2, 1, 1)\n",
    "        plt.plot(vendas_recentes['minuto'], vendas_recentes['valor_total'], marker='o', linestyle='-', color='blue')\n",
    "        plt.title(f'Valor de Vendas - Últimos 10 minutos (Atualização: {datetime.now().strftime(\"%H:%M:%S\")})')\n",
    "        plt.xlabel('Minuto')\n",
    "        plt.ylabel('Valor Total (R$)')\n",
    "        plt.grid(True)\n",
    "        plt.xticks(rotation=45)\n",
    "        \n",
    "        # Consultar dados por categoria (últimos 10 minutos)\n",
    "        query = f\"\"\"\n",
    "        SELECT \n",
    "            categoria,\n",
    "            COUNT(*) AS num_vendas,\n",
    "            SUM(valor_total) AS valor_total\n",
    "        FROM {PINOT_TABLE}\n",
    "        WHERE timestamp > {int((datetime.now() - timedelta(minutes=10)).timestamp() * 1000)}\n",
    "        GROUP BY categoria\n",
    "        ORDER BY valor_total DESC\n",
    "        \"\"\"\n",
    "        \n",
    "        categorias_recentes = query_pinot(query)\n",
    "        \n",
    "        # Atualizar gráfico de categorias\n",
    "        plt.subplot(2, 1, 2)\n",
    "        plt.bar(categorias_recentes['categoria'], categorias_recentes['valor_total'], color='green')\n",
    "        plt.title('Valor Total por Categoria - Últimos 10 minutos')\n",
    "        plt.xlabel('Categoria')\n",
    "        plt.ylabel('Valor Total (R$)')\n",
    "        plt.xticks(rotation=45)\n",
    "        \n",
    "        plt.tight_layout()\n",
    "        plt.draw()\n",
    "        plt.pause(intervalo)\n",
    "    \n",
    "    plt.show()\n",
    "\n",
    "# Executar análise em tempo real (20 iterações com intervalo de 5 segundos)\n",
    "analise_tempo_real(intervalo=5, num_iteracoes=20)"
   ]
  },
  {
   "cell_type": "code",
   "execution_count": null,
   "metadata": {},
   "outputs": [],
   "source": [
    "# Top 5 produtos mais vendidos\n",
    "query = f\"\"\"\n",
    "SELECT \n",
    "    produto,\n",
    "    categoria,\n",
    "    COUNT(*) AS num_vendas,\n",
    "    SUM(quantidade) AS quantidade_total,\n",
    "    SUM(valor_total) AS valor_total\n",
    "FROM {PINOT_TABLE}\n",
    "GROUP BY produto, categoria\n",
    "ORDER BY quantidade_total DESC\n",
    "LIMIT 5\n",
    "\"\"\"\n",
    "\n",
    "top_produtos = query_pinot(query)\n",
    "top_produtos"
   ]
  },
  {
   "cell_type": "code",
   "execution_count": null,
   "metadata": {},
   "outputs": [],
   "source": [
    "# Valor médio de venda por hora do dia\n",
    "query = f\"\"\"\n",
    "SELECT \n",
    "    HOUR(fromEpochMillis(timestamp)) AS hora,\n",
    "    COUNT(*) AS num_vendas,\n",
    "    AVG(valor_total) AS valor_medio,\n",
    "    SUM(valor_total) AS valor_total\n",
    "FROM {PINOT_TABLE}\n",
    "GROUP BY HOUR(fromEpochMillis(timestamp))\n",
    "ORDER BY hora ASC\n",
    "\"\"\"\n",
    "\n",
    "vendas_hora = query_pinot(query)\n",
    "vendas_hora"
   ]
  },
  {
   "cell_type": "code",
   "execution_count": null,
   "metadata": {},
   "outputs": [],
   "source": [
    "# Visualização por hora do dia\n",
    "plt.figure(figsize=(12, 6))\n",
    "plt.plot(vendas_hora['hora'], vendas_hora['valor_total'], marker='o', linestyle='-')\n",
    "plt.title('Valor Total de Vendas por Hora do Dia')\n",
    "plt.xlabel('Hora')\n",
    "plt.ylabel('Valor Total (R$)')\n",
    "plt.grid(True)\n",
    "plt.xticks(range(24))\n",
    "plt.tight_layout()\n",
    "plt.show()"
   ]
  },
  {
   "cell_type": "code",
   "execution_count": null,
   "metadata": {},
   "outputs": [],
   "source": [
    "# Relação entre categoria e forma de pagamento\n",
    "query = f\"\"\"\n",
    "SELECT \n",
    "    categoria,\n",
    "    forma_pagamento,\n",
    "    COUNT(*) AS num_vendas,\n",
    "    SUM(valor_total) AS valor_total\n",
    "FROM {PINOT_TABLE}\n",
    "GROUP BY categoria, forma_pagamento\n",
    "ORDER BY categoria, valor_total DESC\n",
    "\"\"\"\n",
    "\n",
    "categ_pagamento = query_pinot(query)\n",
    "categ_pagamento_pivot = categ_pagamento.pivot_table(index='categoria', columns='forma_pagamento', values='valor_total', aggfunc='sum')\n",
    "categ_pagamento_pivot.fillna(0, inplace=True)\n",
    "categ_pagamento_pivot"
   ]
  },
  {
   "cell_type": "code",
   "execution_count": null,
   "metadata": {},
   "outputs": [],
   "source": [
    "# Visualização da relação entre categoria e forma de pagamento\n",
    "plt.figure(figsize=(14, 8))\n",
    "sns.heatmap(categ_pagamento_pivot, annot=True, fmt='.0f', cmap='YlGnBu')\n",
    "plt.title('Valor Total por Categoria e Forma de Pagamento')\n",
    "plt.tight_layout()\n",
    "plt.show()"
   ]
  }
 ],
 "metadata": {
  "kernelspec": {
   "display_name": "Python 3",
   "language": "python",
   "name": "python3"
  },
  "language_info": {
   "codemirror_mode": {
    "name": "ipython",
    "version": 3
   },
   "file_extension": ".py",
   "mimetype": "text/x-python",
   "name": "python",
   "nbconvert_exporter": "python",
   "pygments_lexer": "ipython3",
   "version": "3.13.1"
  }
 },
 "nbformat": 4,
 "nbformat_minor": 4
}
